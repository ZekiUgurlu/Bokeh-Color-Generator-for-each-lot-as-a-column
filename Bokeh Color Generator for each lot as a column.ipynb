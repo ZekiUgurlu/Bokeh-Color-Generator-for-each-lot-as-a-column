{
 "cells": [
  {
   "cell_type": "markdown",
   "metadata": {},
   "source": [
    "**Bokeh Color Generator for each lot as a column**"
   ]
  },
  {
   "cell_type": "code",
   "execution_count": 9,
   "metadata": {},
   "outputs": [],
   "source": [
    "# Import pandas as pd\n",
    "import pandas as pd\n",
    "df = pd.read_excel('macys.xls')"
   ]
  },
  {
   "cell_type": "code",
   "execution_count": 10,
   "metadata": {},
   "outputs": [],
   "source": [
    "df['lot1']=df.lot.str[-4:]\n",
    "df_set = list(set(df.lot1))"
   ]
  },
  {
   "cell_type": "code",
   "execution_count": 11,
   "metadata": {},
   "outputs": [],
   "source": [
    "from bokeh.palettes import Category10\n",
    "pallet_dict = Category10\n",
    "colors = pallet_dict.get(len(df_set))"
   ]
  },
  {
   "cell_type": "code",
   "execution_count": 12,
   "metadata": {},
   "outputs": [],
   "source": [
    "df_dict= dict(list(zip(df_set, colors)))"
   ]
  },
  {
   "cell_type": "code",
   "execution_count": 14,
   "metadata": {},
   "outputs": [
    {
     "data": {
      "text/html": [
       "<div>\n",
       "<style scoped>\n",
       "    .dataframe tbody tr th:only-of-type {\n",
       "        vertical-align: middle;\n",
       "    }\n",
       "\n",
       "    .dataframe tbody tr th {\n",
       "        vertical-align: top;\n",
       "    }\n",
       "\n",
       "    .dataframe thead th {\n",
       "        text-align: right;\n",
       "    }\n",
       "</style>\n",
       "<table border=\"1\" class=\"dataframe\">\n",
       "  <thead>\n",
       "    <tr style=\"text-align: right;\">\n",
       "      <th></th>\n",
       "      <th>ind</th>\n",
       "      <th>lot</th>\n",
       "      <th>brand</th>\n",
       "      <th>unnamed:_0</th>\n",
       "      <th>ext_msrp</th>\n",
       "      <th>msrp</th>\n",
       "      <th>qty</th>\n",
       "      <th>upc</th>\n",
       "      <th>lot1</th>\n",
       "      <th>color</th>\n",
       "    </tr>\n",
       "  </thead>\n",
       "  <tbody>\n",
       "    <tr>\n",
       "      <th>18</th>\n",
       "      <td>18</td>\n",
       "      <td>cys\\lot1</td>\n",
       "      <td>RALPH LAUREN</td>\n",
       "      <td>244</td>\n",
       "      <td>126.00</td>\n",
       "      <td>126.00</td>\n",
       "      <td>2</td>\n",
       "      <td>1767641742929</td>\n",
       "      <td>lot1</td>\n",
       "      <td>#2ca02c</td>\n",
       "    </tr>\n",
       "    <tr>\n",
       "      <th>14</th>\n",
       "      <td>14</td>\n",
       "      <td>cys\\lot1</td>\n",
       "      <td>MUNDI</td>\n",
       "      <td>144</td>\n",
       "      <td>50.58</td>\n",
       "      <td>50.58</td>\n",
       "      <td>1</td>\n",
       "      <td>77979531125</td>\n",
       "      <td>lot1</td>\n",
       "      <td>#2ca02c</td>\n",
       "    </tr>\n",
       "    <tr>\n",
       "      <th>3</th>\n",
       "      <td>3</td>\n",
       "      <td>cys\\lot1</td>\n",
       "      <td>CALVIN KLEIN</td>\n",
       "      <td>1491</td>\n",
       "      <td>6456.00</td>\n",
       "      <td>4904.00</td>\n",
       "      <td>37</td>\n",
       "      <td>7454080847699</td>\n",
       "      <td>lot1</td>\n",
       "      <td>#2ca02c</td>\n",
       "    </tr>\n",
       "    <tr>\n",
       "      <th>46</th>\n",
       "      <td>46</td>\n",
       "      <td>cys\\lot3</td>\n",
       "      <td>VERA BRADLEY</td>\n",
       "      <td>28</td>\n",
       "      <td>28.00</td>\n",
       "      <td>28.00</td>\n",
       "      <td>1</td>\n",
       "      <td>886003544570</td>\n",
       "      <td>lot3</td>\n",
       "      <td>#ff7f0e</td>\n",
       "    </tr>\n",
       "    <tr>\n",
       "      <th>20</th>\n",
       "      <td>20</td>\n",
       "      <td>cys\\lot1</td>\n",
       "      <td>THE SAK</td>\n",
       "      <td>625</td>\n",
       "      <td>573.00</td>\n",
       "      <td>573.00</td>\n",
       "      <td>6</td>\n",
       "      <td>4269843560608</td>\n",
       "      <td>lot1</td>\n",
       "      <td>#2ca02c</td>\n",
       "    </tr>\n",
       "  </tbody>\n",
       "</table>\n",
       "</div>"
      ],
      "text/plain": [
       "    ind       lot         brand  unnamed:_0  ext_msrp     msrp  qty  \\\n",
       "18   18  cys\\lot1  RALPH LAUREN         244    126.00   126.00    2   \n",
       "14   14  cys\\lot1         MUNDI         144     50.58    50.58    1   \n",
       "3     3  cys\\lot1  CALVIN KLEIN        1491   6456.00  4904.00   37   \n",
       "46   46  cys\\lot3  VERA BRADLEY          28     28.00    28.00    1   \n",
       "20   20  cys\\lot1       THE SAK         625    573.00   573.00    6   \n",
       "\n",
       "              upc  lot1    color  \n",
       "18  1767641742929  lot1  #2ca02c  \n",
       "14    77979531125  lot1  #2ca02c  \n",
       "3   7454080847699  lot1  #2ca02c  \n",
       "46   886003544570  lot3  #ff7f0e  \n",
       "20  4269843560608  lot1  #2ca02c  "
      ]
     },
     "execution_count": 14,
     "metadata": {},
     "output_type": "execute_result"
    }
   ],
   "source": [
    "df['color'] = df.lot1.map(df_dict)\n",
    "df.sample(5)"
   ]
  },
  {
   "cell_type": "code",
   "execution_count": null,
   "metadata": {},
   "outputs": [],
   "source": []
  }
 ],
 "metadata": {
  "kernelspec": {
   "display_name": "Python 3",
   "language": "python",
   "name": "python3"
  },
  "language_info": {
   "codemirror_mode": {
    "name": "ipython",
    "version": 3
   },
   "file_extension": ".py",
   "mimetype": "text/x-python",
   "name": "python",
   "nbconvert_exporter": "python",
   "pygments_lexer": "ipython3",
   "version": "3.7.0"
  },
  "toc": {
   "base_numbering": 1,
   "nav_menu": {},
   "number_sections": true,
   "sideBar": true,
   "skip_h1_title": false,
   "title_cell": "Table of Contents",
   "title_sidebar": "Contents",
   "toc_cell": false,
   "toc_position": {},
   "toc_section_display": true,
   "toc_window_display": false
  }
 },
 "nbformat": 4,
 "nbformat_minor": 2
}
